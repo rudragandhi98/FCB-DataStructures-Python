{
 "cells": [
  {
   "cell_type": "code",
   "execution_count": 57,
   "metadata": {},
   "outputs": [],
   "source": [
    "# Create a Player Class with names of players \n",
    "\n",
    "class TeamPlayers: \n",
    "    \n",
    "    def __init__(self, name, address, players = [], coaches = [], captains = []):\n",
    "        \n",
    "        self.name = name\n",
    "        self.address = address\n",
    "        self.players = players\n",
    "        self.coaches = coaches\n",
    "        self.captains = captains\n",
    "\n",
    "    def deletePlayer(self):\n",
    "        self.players.pop(0)\n",
    "\n",
    "    def addPlayer(self, player):\n",
    "        self.players.append(player)\n",
    "        \n",
    "    def deleteCoach(self):\n",
    "        self.coaches.pop(0)\n",
    "    \n",
    "    def addCoach(self, coach):\n",
    "        self.coaches.append(coach)\n",
    "    \n",
    "    def deleteCaptain(self):\n",
    "        self.captains.pop(0)\n",
    "    \n",
    "    def addCaptain(self, captain):\n",
    "        self.captains.append(captain)\n",
    "        \n",
    "    def print_details(self):\n",
    "        print(\"Name: {0}\".format(self.name))\n",
    "        print(\"Address: {0}\".format(self.address))\n"
   ]
  },
  {
   "cell_type": "code",
   "execution_count": 58,
   "metadata": {},
   "outputs": [
    {
     "name": "stdout",
     "output_type": "stream",
     "text": [
      "Name: FC Barcelona\n",
      "Address: Spain\n",
      "Coaches: \n",
      "['Ronaldo']\n",
      "------------------\n",
      "Players: \n",
      "['Fati: 4 goals', 'Marc-Andre ter Stegen', 'Ronaldo Araujo', 'Sergio Bisquets', 'Jordi Alba: 3 goals', 'Griezman: 8 goals', 'Dembele: 5 goals', 'Trincao: 3 goals', 'F. De Jong: 3 goals', 'Suarez', 'Neymar']\n",
      "------------------\n",
      "Players after using delete function: \n",
      "['Ronaldo Araujo', 'Sergio Bisquets', 'Jordi Alba: 3 goals', 'Griezman: 8 goals', 'Dembele: 5 goals', 'Trincao: 3 goals', 'F. De Jong: 3 goals', 'Suarez', 'Neymar']\n",
      "------------------\n",
      "Captains: \n",
      "['Lionel Messi: 23 goals', 'Sergio Roberto']\n",
      "------------------\n"
     ]
    }
   ],
   "source": [
    "#tp = TeamPlayers()\n",
    "tp = TeamPlayers(\"FC Barcelona\", \"Spain\")\n",
    "tp.print_details()\n",
    "print(\"Coaches: \")\n",
    "tp.addCoach(\"Ronaldo\")\n",
    "print(tp.coaches)\n",
    "\n",
    "print(\"------------------\")\n",
    "print(\"Players: \")\n",
    "tp.addPlayer(\"Fati: 4 goals\")\n",
    "tp.addPlayer(\"Marc-Andre ter Stegen\")\n",
    "tp.addPlayer(\"Ronaldo Araujo\")\n",
    "tp.addPlayer(\"Sergio Bisquets\")\n",
    "tp.addPlayer(\"Jordi Alba: 3 goals\")\n",
    "tp.addPlayer(\"Griezman: 8 goals\")\n",
    "tp.addPlayer(\"Dembele: 5 goals\")\n",
    "tp.addPlayer(\"Trincao: 3 goals\")\n",
    "tp.addPlayer(\"F. De Jong: 3 goals\")\n",
    "tp.addPlayer(\"Suarez\")\n",
    "tp.addPlayer(\"Neymar\")\n",
    "print(tp.players)\n",
    "\n",
    "tp.deletePlayer()\n",
    "tp.deletePlayer()\n",
    "\n",
    "print(\"------------------\")\n",
    "print(\"Players after using delete function: \")\n",
    "print(tp.players)\n",
    "\n",
    "print(\"------------------\")\n",
    "print(\"Captains: \")\n",
    "tp.addCaptain(\"Lionel Messi: 23 goals\")\n",
    "tp.addCaptain(\"Sergio Roberto\")\n",
    "print(tp.captains)\n",
    "print(\"------------------\")\n"
   ]
  },
  {
   "cell_type": "code",
   "execution_count": 59,
   "metadata": {},
   "outputs": [
    {
     "name": "stdout",
     "output_type": "stream",
     "text": [
      "         Player  Total Goals\n",
      "0  Lionel Messi           23\n",
      "1     Griezman             8\n",
      "2       Dembele            5\n",
      "3          Fati            4\n",
      "4       Trincao            3\n",
      "5    F. De Jong            3\n",
      "6         Alba             3\n"
     ]
    }
   ],
   "source": [
    "# Stats \n",
    "import pandas as pd\n",
    "df = pd.read_excel(r'/Users/rudragandhi/Desktop/FCB.xls', sheet_name = 'FCB')\n",
    "print(df)"
   ]
  },
  {
   "cell_type": "code",
   "execution_count": 50,
   "metadata": {},
   "outputs": [
    {
     "data": {
      "image/png": "[encoded data removed]",
      "text/plain": [
       "<Figure size 1000x500 with 1 Axes>"
      ]
     },
     "metadata": {},
     "output_type": "display_data"
    }
   ],
   "source": [
    "import matplotlib.pyplot as plt; plt.rcdefaults()\n",
    "import numpy as np\n",
    "import matplotlib.pyplot as plt\n",
    "\n",
    "fig = plt.figure(figsize=(10,5))\n",
    "objects = df['Player']\n",
    "y_pos = np.arange(len(objects))\n",
    "performance = df['Total Goals']\n",
    "\n",
    "plt.bar(y_pos, performance, align='center', alpha=0.5)\n",
    "plt.xticks(y_pos, objects)\n",
    "plt.ylabel('Total Goals')\n",
    "plt.title('Goals per Player')\n",
    "\n",
    "plt.show()"
   ]
  },
  {
   "cell_type": "code",
   "execution_count": null,
   "metadata": {},
   "outputs": [],
   "source": []
  }
 ],
 "metadata": {
  "kernelspec": {
   "display_name": "Python 3",
   "language": "python",
   "name": "python3"
  },
  "language_info": {
   "codemirror_mode": {
    "name": "ipython",
    "version": 3
   },
   "file_extension": ".py",
   "mimetype": "text/x-python",
   "name": "python",
   "nbconvert_exporter": "python",
   "pygments_lexer": "ipython3",
   "version": "3.8.5"
  }
 },
 "nbformat": 4,
 "nbformat_minor": 4
}
